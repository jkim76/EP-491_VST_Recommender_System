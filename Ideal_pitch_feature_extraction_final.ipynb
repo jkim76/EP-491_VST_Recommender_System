{
 "cells": [
  {
   "cell_type": "code",
   "execution_count": 29,
   "metadata": {},
   "outputs": [],
   "source": [
    "import os, sys\n",
    "import numpy as np\n",
    "import pandas as pd\n",
    "import librosa as lr\n",
    "import csv\n",
    "import matplotlib.pyplot as plt\n",
    "from glob import glob\n",
    "np.set_printoptions(threshold=sys.maxsize)"
   ]
  },
  {
   "cell_type": "code",
   "execution_count": 30,
   "metadata": {},
   "outputs": [
    {
     "name": "stdout",
     "output_type": "stream",
     "text": [
      ".DS_Store\n",
      "000006_Serum_Bass_BA Ampology [CFBass]_60.wav\n",
      "000015_Serum_Bass_BA Analog Pluck [SN]_36.wav\n",
      "000030_Serum_Bass_BA BSOD Sqr Bass [SD]_84.wav\n",
      "000038_Serum_Bass_BA Chunky Bass Chop 1 [GQ]_48.wav\n",
      "000049_Serum_Bass_BA Chunky Bass Chop 2 [GQ]_48.wav\n",
      "000060_Serum_Bass_BA Classic But More [EE]_48.wav\n",
      "000070_Serum_Bass_BA Deep Sync [BS]_36.wav\n",
      "000082_Serum_Bass_BA Deep Womp [ADWR]_48.wav\n",
      "000094_Serum_Bass_BA DnB Roller [ASL]_60.wav\n",
      "000105_Serum_Bass_BA D-Bass 1 [DU]_60.wav\n",
      "000115_Serum_Bass_BA D-Bass 2 [DU]_48.wav\n",
      "000127_Serum_Bass_BA Feed the Mau5 [JL]_60.wav\n",
      "000137_Serum_Bass_BA FM Bounce [ASL]_48.wav\n",
      "000149_Serum_Bass_BA FM Wob [ADWR]_60.wav\n",
      "000160_Serum_Bass_BA FunkMogue [CFA]_60.wav\n",
      "000170_Serum_Bass[Hard]_BA 8bitfwap [GI]_48.wav\n",
      "000180_Serum_Bass[Hard]_BA Access 2 Mthrshp Denied [LCV]_36.wav\n",
      "000192_Serum_Bass[Hard]_BA Angggeerrrrr [GI]_48.wav\n",
      "000203_Serum_Bass[Hard]_BA Angle Grinder [SN]_48.wav\n",
      "000215_Serum_Bass[Hard]_BA Angry Boss [JL]_60.wav\n",
      "000225_Serum_Bass[Hard]_BA Bandpass 2 [SL]_48.wav\n",
      "000235_Serum_Bass[Hard]_BA Bass dropper [GI]_36.wav\n",
      "000247_Serum_Bass[Hard]_BA Bites [7S]_48.wav\n",
      "000258_Serum_Bass[Hard]_BA BitterBot [LCV]_48.wav\n",
      "000268_Serum_Bass[Hard]_BA BlackMask [7S]_36.wav\n",
      "000280_Serum_Bass[Hard]_BA BotWerx [LCV]_48.wav\n",
      "000292_Serum_Bass[Hard]_BA Complextro 1 [CFA]_60.wav\n",
      "000302_Serum_Bass[Hard]_BA Complextro 2 [CFA]_48.wav\n",
      "000313_Serum_Bass[Hard]_BA CrowdScream Bass [ASL]_48.wav\n",
      "000324_Serum_Bass[Hard]_BA Dark Weight DnB [ASL]_48.wav\n",
      "000334_Serum_Leads_LD 8bitcycle [AF]_36.wav\n",
      "000346_Serum_Leads_LD A Bit of Luck [SD]_48.wav\n",
      "000359_Serum_Leads_LD Analogesque [EE]_72.wav\n",
      "000368_Serum_Leads_LD Araba [7S]_48.wav\n",
      "000379_Serum_Leads_LD Bendy Metal [DK]_48.wav\n",
      "000388_Serum_Leads_LD Bionic Squirrel [BS]_24.wav\n",
      "000402_Serum_Leads_LD Birth Of Electro [FP]_60.wav\n",
      "000412_Serum_Leads_LD booty [AF]_48.wav\n",
      "000424_Serum_Leads_LD BottleBlower [SD]_60.wav\n",
      "000434_Serum_Leads_LD BraveHeart [7S]_48.wav\n",
      "000446_Serum_Leads_LD Brutality [FN]_60.wav\n",
      "000457_Serum_Leads_LD C64 Lead [AS]_60.wav\n",
      "000468_Serum_Leads_LD Caliber [SD]_60.wav\n",
      "000478_Serum_Leads_LD Clang [SD]_48.wav\n",
      "000489_Serum_Leads_LD Cripple [JD]_48.wav\n",
      "000501_Serum_Misc_CONTROL pad jp [AF]_60.wav\n",
      "000511_Serum_Misc_HV Hoover [7S]_48.wav\n",
      "000523_Serum_Misc_HV Whoever [SD]_60.wav\n",
      "000535_Serum_Misc_INIT TableAnim [SD]_72.wav\n",
      "000543_Serum_Misc_KY Let's Get Nutz [FP]_36.wav\n",
      "000554_Serum_Misc_KY punchOrgan [GS]_36.wav\n",
      "000566_Serum_Misc_KY WurlyKeys [ASL]_48.wav\n",
      "000578_Serum_Misc_MID CalyxTeeBee [BR]_60.wav\n",
      "000589_Serum_Misc_MID Fenugreek [BR]_60.wav\n",
      "000599_Serum_Misc_PR 808 Kick Circuit [SD]_48.wav\n",
      "000610_Serum_Misc_PR Dirty Kick [SN]_48.wav\n",
      "000622_Serum_Misc_PR gamelan tweak [GS]_60.wav\n",
      "000633_Serum_Misc_PR Kicking [CFA]_60.wav\n",
      "000644_Serum_Misc_PR mipkick [GS]_60.wav\n",
      "000652_Serum_Misc_PR SNARE 8X8 [ASL]_24.wav\n",
      "000664_Serum_Pads_PD ArticWind [CFA]_36.wav\n",
      "000676_Serum_Pads_PD Beating Pad [AS]_48.wav\n",
      "000686_Serum_Pads_PD BenjPad [GS]_36.wav\n",
      "000698_Serum_Pads_PD Big Minor Seventh Pad [SN]_48.wav\n",
      "000706_Serum_Pads_PD Broken Bows [SW]_12.wav\n",
      "000719_Serum_Pads_PD Celestial Light [SW]_36.wav\n",
      "000730_Serum_Pads_PD Centipad [7S]_36.wav\n",
      "000741_Serum_Pads_PD ChampionBassPad [GS]_36.wav\n",
      "000752_Serum_Pads_PD Circling Orch [GS]_36.wav\n",
      "000763_Serum_Pads_PD Defiant [BR]_36.wav\n",
      "000775_Serum_Pads_PD Don't Go In There [JL]_48.wav\n",
      "000785_Serum_Pads_PD D_Pad 1 [DU]_36.wav\n",
      "000796_Serum_Pads_PD D_Pad 2 [DU]_36.wav\n",
      "000808_Serum_Pads_PD Emotional More[KG]_48.wav\n",
      "000819_Serum_Pads_PD Epic Bandpass Pad [JL]_48.wav\n",
      "000830_Serum_Plucked_PL Beepy ting [GI]_48.wav\n",
      "000841_Serum_Plucked_PL Big Bells [AS]_48.wav\n",
      "000852_Serum_Plucked_PL Cliche d00t [GI]_48.wav\n",
      "000863_Serum_Plucked_PL Crushed Pluck [AS]_48.wav\n",
      "000875_Serum_Plucked_PL Crusty Pluck [LCV]_60.wav\n",
      "000897_Serum_Plucked_PL Downed [7S]_60.wav\n",
      "000908_Serum_Plucked_PL Downpitcher [FN]_60.wav\n",
      "000918_Serum_Plucked_PL Dreamy NuDisco [SW]_48.wav\n",
      "000929_Serum_Plucked_PL Dyk Pyk [PL]_48.wav\n",
      "000941_Serum_Plucked_PL D-Pluck [DU]_60.wav\n",
      "000950_Serum_Plucked_PL FMmy [SD]_36.wav\n",
      "000961_Serum_Plucked_PL Mallety [SD]_48.wav\n",
      "000971_Serum_Plucked_PL Metachord [FP]_36.wav\n",
      "000983_Serum_Plucked_PL Metallica [FN]_48.wav\n",
      "000994_Serum_Plucked_PL Modern Drop 1 [DRK]_48.wav\n",
      "001004_Serum_Seq_SQ 2notes [GS]_36.wav\n",
      "001016_Serum_Seq_SQ 303Tails [7S]_48.wav\n",
      "001026_Serum_Seq_SQ Acid Time [FN]_36.wav\n",
      "001039_Serum_Seq_SQ AKS On The Run [ASL]_60.wav\n",
      "001048_Serum_Seq_SQ Anxiety Loop [AF]_36.wav\n",
      "001060_Serum_Seq_SQ Automator 1 [GS]_48.wav\n",
      "001071_Serum_Seq_SQ Automator 2 [GS]_48.wav\n",
      "001083_Serum_Seq_SQ Automator 3 [GS]_60.wav\n",
      "001094_Serum_Seq_SQ Automator 4 [GS]_60.wav\n",
      "001105_Serum_Seq_SQ Automator 5 [GS]_60.wav\n",
      "001117_Serum_Seq_SQ Automator 6 [GS]_72.wav\n",
      "001126_Serum_Seq_SQ Bass Pitfire [7S]_48.wav\n",
      "001138_Serum_Seq_SQ Bass Riser [FN]_60.wav\n",
      "001148_Serum_Seq_SQ BassCrackin [BS]_48.wav\n",
      "001159_Serum_Seq_SQ Bendy Hi Jack [IM]_48.wav\n",
      "001170_Serum_SY AnalogBrass [SD]_48.wav\n",
      "001181_Serum_Synth_SY AnalogString [SD]_48.wav\n",
      "001192_Serum_Synth_SY Angry Organ {KG]_48.wav\n",
      "001204_Serum_Synth_SY Arcader [FP]_60.wav\n",
      "001215_Serum_Synth_SY Augustines Bell Chapel [JL]_60.wav\n",
      "001223_Serum_Synth_SY Big Sleepy [FP]_24.wav\n",
      "001235_Serum_Synth_SY Buzzz Saw [IM]_36.wav\n",
      "001247_Serum_Synth_SY cHello [GS]_48.wav\n",
      "001258_Serum_Synth_SY Chord Rampensau [FN]_48.wav\n",
      "001269_Serum_Synth_SY crappy keys [GI]_48.wav\n",
      "001280_Serum_Synth_SY CRAZYFEST [BS]_48.wav\n",
      "001291_Serum_Synth_SY CrazyLayer [SD]_48.wav\n",
      "001302_Serum_Synth_SY Dirtypure [GS]_48.wav\n",
      "001313_Serum_Synth_SY Drawbar Organ [ASL]_48.wav\n",
      "001324_Serum_Synth_SY Eiano [LT]_48.wav\n"
     ]
    }
   ],
   "source": [
    "data_dir = '/Users/jungwookim/Desktop/EP_491_JungwooKim/Ideal_pitch_audio'\n",
    "dirs = sorted(os.listdir(data_dir))\n",
    "\n",
    "# This would print all the files and directories\n",
    "for file in dirs:\n",
    "    print(file);\n"
   ]
  },
  {
   "cell_type": "code",
   "execution_count": 31,
   "metadata": {},
   "outputs": [],
   "source": [
    "audio_files = glob(data_dir + '/*.wav')"
   ]
  },
  {
   "cell_type": "code",
   "execution_count": 32,
   "metadata": {},
   "outputs": [
    {
     "data": {
      "text/plain": [
       "120"
      ]
     },
     "execution_count": 32,
     "metadata": {},
     "output_type": "execute_result"
    }
   ],
   "source": [
    "len(audio_files)"
   ]
  },
  {
   "cell_type": "code",
   "execution_count": 33,
   "metadata": {},
   "outputs": [],
   "source": [
    "audio, sr = lr.load(audio_files[119],sr=48000)\n",
    "time = np.arange(0, len(audio)) / sr\n"
   ]
  },
  {
   "cell_type": "code",
   "execution_count": 34,
   "metadata": {
    "scrolled": true
   },
   "outputs": [],
   "source": [
    "#rms 1d array\n",
    "rms_array = np.empty((len(audio_files), 1))\n",
    "iter = 0\n",
    "for file in range(0,len(audio_files), 1):\n",
    "    audio, sr = lr.load(audio_files[file])\n",
    "    rms =  lr.feature.rms(y = audio, frame_length = len(audio))\n",
    "    rms_array[iter] = np.average(rms)\n",
    "    iter = iter + 1"
   ]
  },
  {
   "cell_type": "code",
   "execution_count": null,
   "metadata": {},
   "outputs": [],
   "source": []
  },
  {
   "cell_type": "code",
   "execution_count": null,
   "metadata": {},
   "outputs": [],
   "source": []
  },
  {
   "cell_type": "code",
   "execution_count": null,
   "metadata": {},
   "outputs": [],
   "source": []
  },
  {
   "cell_type": "code",
   "execution_count": 35,
   "metadata": {},
   "outputs": [],
   "source": [
    "import csv"
   ]
  },
  {
   "cell_type": "code",
   "execution_count": 36,
   "metadata": {},
   "outputs": [],
   "source": [
    "#mfcc 2d array\n",
    "mfcc_array = np.empty((len(audio_files), 20))\n",
    "iter = 0\n",
    "for file in range(0,len(audio_files), 1):\n",
    "    audio, sr = lr.load(audio_files[file])\n",
    "    mfcc =  lr.feature.mfcc(y=audio, sr=48000)\n",
    "    mfcc_array[iter] = np.average(mfcc, axis=1)\n",
    "    iter = iter + 1"
   ]
  },
  {
   "cell_type": "code",
   "execution_count": null,
   "metadata": {},
   "outputs": [],
   "source": []
  },
  {
   "cell_type": "code",
   "execution_count": null,
   "metadata": {},
   "outputs": [],
   "source": []
  },
  {
   "cell_type": "code",
   "execution_count": null,
   "metadata": {},
   "outputs": [],
   "source": []
  },
  {
   "cell_type": "code",
   "execution_count": null,
   "metadata": {},
   "outputs": [],
   "source": []
  },
  {
   "cell_type": "code",
   "execution_count": null,
   "metadata": {},
   "outputs": [],
   "source": []
  },
  {
   "cell_type": "code",
   "execution_count": null,
   "metadata": {},
   "outputs": [],
   "source": []
  },
  {
   "cell_type": "code",
   "execution_count": null,
   "metadata": {},
   "outputs": [],
   "source": []
  },
  {
   "cell_type": "code",
   "execution_count": 37,
   "metadata": {},
   "outputs": [],
   "source": [
    "#Spectral Centroid  use this one parameter 1d array\n",
    "cent_array = np.empty((len(audio_files), 1))\n",
    "iter = 0\n",
    "for file in range(0,len(audio_files), 1):\n",
    "    audio, sr = lr.load(audio_files[file])\n",
    "    cent = lr.feature.spectral_centroid(y=audio, sr=48000)\n",
    "    cent_array[iter] = np.average(cent)\n",
    "    iter = iter + 1"
   ]
  },
  {
   "cell_type": "code",
   "execution_count": null,
   "metadata": {},
   "outputs": [],
   "source": []
  },
  {
   "cell_type": "code",
   "execution_count": null,
   "metadata": {},
   "outputs": [],
   "source": []
  },
  {
   "cell_type": "code",
   "execution_count": null,
   "metadata": {},
   "outputs": [],
   "source": []
  },
  {
   "cell_type": "code",
   "execution_count": 38,
   "metadata": {},
   "outputs": [],
   "source": [
    "#Spectral bandwidth 1d array\n",
    "bandwidth_array = np.empty((len(audio_files), 1))\n",
    "iter = 0\n",
    "for file in range(0,len(audio_files), 1):\n",
    "    audio, sr = lr.load(audio_files[file])\n",
    "    bandwidth = lr.feature.spectral_bandwidth(y=audio, sr=48000)\n",
    "    bandwidth_array[iter] = np.average(bandwidth)\n",
    "    iter = iter + 1"
   ]
  },
  {
   "cell_type": "code",
   "execution_count": null,
   "metadata": {},
   "outputs": [],
   "source": []
  },
  {
   "cell_type": "code",
   "execution_count": null,
   "metadata": {},
   "outputs": [],
   "source": []
  },
  {
   "cell_type": "code",
   "execution_count": null,
   "metadata": {},
   "outputs": [],
   "source": []
  },
  {
   "cell_type": "code",
   "execution_count": null,
   "metadata": {},
   "outputs": [],
   "source": []
  },
  {
   "cell_type": "code",
   "execution_count": 39,
   "metadata": {},
   "outputs": [],
   "source": [
    "#spectral contrast 6 band 2d\n",
    "contrast_array = np.empty((len(audio_files), 7))\n",
    "iter = 0\n",
    "for file in range(0,len(audio_files), 1):\n",
    "    audio, sr = lr.load(audio_files[file])\n",
    "    S = np.abs(lr.stft(audio))\n",
    "    contrast = lr.feature.spectral_contrast(S=S, sr=48000)\n",
    "    contrast_array[iter] = np.average(contrast,axis=1)\n",
    "    iter = iter + 1"
   ]
  },
  {
   "cell_type": "code",
   "execution_count": null,
   "metadata": {},
   "outputs": [],
   "source": []
  },
  {
   "cell_type": "code",
   "execution_count": null,
   "metadata": {},
   "outputs": [],
   "source": []
  },
  {
   "cell_type": "code",
   "execution_count": null,
   "metadata": {},
   "outputs": [],
   "source": []
  },
  {
   "cell_type": "raw",
   "metadata": {},
   "source": []
  },
  {
   "cell_type": "code",
   "execution_count": null,
   "metadata": {},
   "outputs": [],
   "source": []
  },
  {
   "cell_type": "code",
   "execution_count": 40,
   "metadata": {},
   "outputs": [],
   "source": [
    "#spectral rolloff 1d array\n",
    "rolloff_array = np.empty((len(audio_files), 1))\n",
    "iter = 0\n",
    "for file in range(0,len(audio_files), 1):\n",
    "    audio, sr = lr.load(audio_files[file])\n",
    "    #Appriximate Maximum Frequencies with roll_percent=0.85\n",
    "    rolloff = lr.feature.spectral_rolloff(y=audio, sr=48000)\n",
    "    rolloff_array[iter] = np.average(rolloff)  \n",
    "    iter = iter + 1"
   ]
  },
  {
   "cell_type": "code",
   "execution_count": null,
   "metadata": {},
   "outputs": [],
   "source": []
  },
  {
   "cell_type": "code",
   "execution_count": 41,
   "metadata": {},
   "outputs": [],
   "source": [
    "#for file in range(0,len(audio_files), 1):\n",
    "    #audio, sr = lr.load(audio_files[file])\n",
    "    #Appriximate Minimum Frequencies with roll_percent=0.85\n",
    "    #rolloff = librosa.feature.spectral_rolloff(y=y, sr=sr, roll_percent=0.1)"
   ]
  },
  {
   "cell_type": "code",
   "execution_count": null,
   "metadata": {},
   "outputs": [],
   "source": []
  },
  {
   "cell_type": "code",
   "execution_count": null,
   "metadata": {},
   "outputs": [],
   "source": []
  },
  {
   "cell_type": "code",
   "execution_count": null,
   "metadata": {},
   "outputs": [],
   "source": []
  },
  {
   "cell_type": "code",
   "execution_count": null,
   "metadata": {},
   "outputs": [],
   "source": []
  },
  {
   "cell_type": "code",
   "execution_count": null,
   "metadata": {},
   "outputs": [],
   "source": []
  },
  {
   "cell_type": "code",
   "execution_count": null,
   "metadata": {},
   "outputs": [],
   "source": []
  },
  {
   "cell_type": "code",
   "execution_count": 42,
   "metadata": {},
   "outputs": [],
   "source": [
    "#spectral flatness 1d\n",
    "flatness_array = np.empty((len(audio_files), 1))\n",
    "iter = 0\n",
    "for file in range(0,len(audio_files), 1):\n",
    "    audio, sr = lr.load(audio_files[file])\n",
    "    flatness = lr.feature.spectral_flatness(y=audio)\n",
    "    flatness_array[iter] = np.average(flatness)\n",
    "    iter = iter + 1"
   ]
  },
  {
   "cell_type": "code",
   "execution_count": 43,
   "metadata": {},
   "outputs": [],
   "source": [
    "# 1d spectral centroiad + 2d Mfcc(multiple of mfcc values thats why we call it 2d array)a\n",
    "a=np.concatenate((rms_array, mfcc_array, cent_array, bandwidth_array, contrast_array, rolloff_array, flatness_array), axis=1)"
   ]
  },
  {
   "cell_type": "code",
   "execution_count": null,
   "metadata": {},
   "outputs": [],
   "source": []
  },
  {
   "cell_type": "code",
   "execution_count": null,
   "metadata": {},
   "outputs": [],
   "source": [
    "mfccFile = open('Ideal_Pitch_Feature_Extraction_final.csv', mode='w')\n",
    "writer = csv.writer(mfccFile, delimiter=',', quotechar='\"', quoting=csv.QUOTE_MINIMAL)\n",
    "writer.writerow([\"rms\",\"mfcc1\", \"mfcc2\", \"mfcc3\", \"mfcc4\", \"mfcc5\", \"mfcc6\", \"mfcc7\", \"mfcc8\", \"mfcc9\", \"mfcc10\", \"mfcc11\", \"mfcc12\", \"mfcc13\", \"mfcc14\", \"mfcc15\", \"mfcc16\", \"mfcc17\", \"mfcc18\", \"mfcc19\", \"mfcc20\",\"centroid\",\"bandwidth\",\"contrast1\",\"contrast2\",\"contrast3\",\"contrast4\",\"contrast5\",\"contrast6\",\"contrast7\",\"rolloff\",\"flatness\"])\n",
    "writer.writerows(a)\n",
    "mfccFile.close()"
   ]
  },
  {
   "cell_type": "code",
   "execution_count": 44,
   "metadata": {},
   "outputs": [],
   "source": [
    "# Imports\n",
    "\n",
    "#General\n",
    "import numpy as np\n",
    "import itertools\n",
    "\n",
    "# System\n",
    "import os, fnmatch\n",
    "\n",
    "# Visualization\n",
    "import seaborn #visualization library, must be imported before all other plotting libraries\n",
    "import matplotlib.pyplot as plt\n",
    "from IPython.core.display import HTML, display\n",
    "\n"
   ]
  },
  {
   "cell_type": "code",
   "execution_count": 45,
   "metadata": {},
   "outputs": [],
   "source": [
    "# Machine Learning\n",
    "from sklearn.preprocessing import LabelEncoder\n",
    "from sklearn.preprocessing import StandardScaler\n",
    "from sklearn.model_selection import StratifiedShuffleSplit\n",
    "from sklearn.neighbors import KNeighborsClassifier\n",
    "from sklearn.metrics import recall_score, precision_score, accuracy_score\n",
    "from sklearn.metrics import confusion_matrix, f1_score, classification_report\n",
    "\n"
   ]
  },
  {
   "cell_type": "code",
   "execution_count": 46,
   "metadata": {},
   "outputs": [],
   "source": [
    "# Random Seed\n",
    "from numpy.random import seed\n",
    "seed(1)\n"
   ]
  },
  {
   "cell_type": "code",
   "execution_count": 48,
   "metadata": {},
   "outputs": [],
   "source": [
    "# Audio\n",
    "import librosa.display, librosa"
   ]
  },
  {
   "cell_type": "code",
   "execution_count": 49,
   "metadata": {},
   "outputs": [
    {
     "name": "stdout",
     "output_type": "stream",
     "text": [
      "found 120 audio files in /Users/jungwookim/Desktop/EP_491_JungwooKim/Ideal_pitch_audio\n"
     ]
    }
   ],
   "source": [
    "path='/Users/jungwookim/Desktop/EP_491_JungwooKim/Ideal_pitch_audio'\n",
    "#'./Users/jungwookim/Desktop/all-samples'\n",
    "files = []\n",
    "for root, dirnames, filenames in os.walk(path):\n",
    "    for filename in fnmatch.filter(filenames, '*.wav'):\n",
    "        files.append(os.path.join(root, filename))\n",
    "\n",
    "print(\"found %d audio files in %s\"%(len(files),path))"
   ]
  },
  {
   "cell_type": "code",
   "execution_count": 69,
   "metadata": {},
   "outputs": [],
   "source": [
    "#get labels\n",
    "labels =[]\n",
    "classes=['flute','sax','oboe','cello','trumpet','viola']\n",
    "color_dict={'cello':'blue','flute':'red', 'oboe':'green', 'trumpet':'black', 'sax':'magenta','viola':'yellow'}\n",
    "color_list=[]\n",
    "for filename in files:\n",
    "    for name in classes:\n",
    "        if fnmatch.fnmatchcase(filename, '*'+name+'*'):\n",
    "            labels.append(name)\n",
    "            color_list.append(color_dict[name])\n",
    "            break\n",
    "            \n",
    "    else:\n",
    "        labels.append('other')"
   ]
  },
  {
   "cell_type": "code",
   "execution_count": 70,
   "metadata": {},
   "outputs": [
    {
     "name": "stdout",
     "output_type": "stream",
     "text": [
      "1 classes other\n"
     ]
    }
   ],
   "source": [
    "labelencoder = LabelEncoder()\n",
    "labelencoder.fit(labels)\n",
    "print(len(labelencoder.classes_), \"classes\", \", \".join(list(labelencoder.classes_)))\n",
    "classes_num = labelencoder.transform(labels)"
   ]
  },
  {
   "cell_type": "code",
   "execution_count": 71,
   "metadata": {},
   "outputs": [],
   "source": [
    "fs=48000\n",
    "n_fft = 2048\n",
    "hop_length = 512\n",
    "n_mels = 128\n",
    "\n",
    "testset_size =0.25\n",
    "n_neighbors=1"
   ]
  },
  {
   "cell_type": "code",
   "execution_count": 72,
   "metadata": {},
   "outputs": [
    {
     "name": "stdout",
     "output_type": "stream",
     "text": [
      "(120, 32)\n",
      "Feature vectors shape: (120, 32)\n"
     ]
    }
   ],
   "source": [
    "scaler = StandardScaler()\n",
    "scaled_feature_vectors = scaler.fit_transform(np.array(a))\n",
    "print(scaled_feature_vectors.shape)\n",
    "print(\"Feature vectors shape:\",scaled_feature_vectors.shape)"
   ]
  },
  {
   "cell_type": "code",
   "execution_count": 75,
   "metadata": {},
   "outputs": [],
   "source": [
    "# Create Train and Test Set\n",
    "splitter = StratifiedShuffleSplit(n_splits=1, test_size=testset_size, random_state=0)\n",
    "splits = splitter.split(scaled_feature_vectors, classes_num)\n",
    "\n",
    "for train_index, test_index in splits:\n",
    "    train_set = scaled_feature_vectors[train_index]\n",
    "    test_set = scaled_feature_vectors[test_index]\n",
    "    train_classes = classes_num[train_index]\n",
    "    test_classes = classes_num[test_index]"
   ]
  },
  {
   "cell_type": "code",
   "execution_count": 74,
   "metadata": {},
   "outputs": [
    {
     "name": "stdout",
     "output_type": "stream",
     "text": [
      "train_set shape: (90, 32)\n",
      "test_set shape: (30, 32)\n",
      "train_classes shape: (90,)\n",
      "test_classes shape: (30,)\n"
     ]
    }
   ],
   "source": [
    "print(\"train_set shape:\",train_set.shape)\n",
    "print(\"test_set shape:\",test_set.shape)\n",
    "print(\"train_classes shape:\",train_classes.shape)\n",
    "print(\"test_classes shape:\",test_classes.shape)"
   ]
  },
  {
   "cell_type": "code",
   "execution_count": 76,
   "metadata": {},
   "outputs": [],
   "source": [
    "n_neighbors=1\n",
    "model_knn = KNeighborsClassifier(n_neighbors=n_neighbors)"
   ]
  },
  {
   "cell_type": "code",
   "execution_count": 77,
   "metadata": {},
   "outputs": [],
   "source": [
    "model_knn.fit(train_set, train_classes);"
   ]
  },
  {
   "cell_type": "code",
   "execution_count": 78,
   "metadata": {},
   "outputs": [],
   "source": [
    "predicted_labels =model_knn.predict(test_set)"
   ]
  },
  {
   "cell_type": "code",
   "execution_count": 79,
   "metadata": {},
   "outputs": [
    {
     "name": "stdout",
     "output_type": "stream",
     "text": [
      "Recall:  [1.]\n",
      "Precision:  [1.]\n",
      "F1-Score:  [1.]\n",
      "Accuracy: 1.00  , 30\n",
      "Number of samples: 30\n"
     ]
    }
   ],
   "source": [
    "# Recall - the ability of the classifier to find all the positive samples\n",
    "print(\"Recall: \", recall_score(test_classes, predicted_labels,average=None))\n",
    "\n",
    "# Precision - The precision is intuitively the ability of the classifier not to \n",
    "#label as positive a sample that is negative\n",
    "print(\"Precision: \", precision_score(test_classes, predicted_labels,average=None))\n",
    "\n",
    "# F1-Score - The F1 score can be interpreted as a weighted average of the precision \n",
    "#and recall\n",
    "print(\"F1-Score: \", f1_score(test_classes, predicted_labels, average=None))\n",
    "\n",
    "# Accuracy - the number of correctly classified samples\n",
    "print(\"Accuracy: %.2f  ,\" % accuracy_score(test_classes, predicted_labels,normalize=True), accuracy_score(test_classes, predicted_labels,normalize=False) )\n",
    "print(\"Number of samples:\",test_classes.shape[0])"
   ]
  },
  {
   "cell_type": "code",
   "execution_count": 80,
   "metadata": {},
   "outputs": [],
   "source": [
    "cnf_matrix = confusion_matrix(test_classes, predicted_labels)\n",
    "np.set_printoptions(precision=2)"
   ]
  },
  {
   "cell_type": "code",
   "execution_count": null,
   "metadata": {},
   "outputs": [],
   "source": []
  },
  {
   "cell_type": "code",
   "execution_count": null,
   "metadata": {},
   "outputs": [],
   "source": []
  }
 ],
 "metadata": {
  "kernelspec": {
   "display_name": "Python 3",
   "language": "python",
   "name": "python3"
  },
  "language_info": {
   "codemirror_mode": {
    "name": "ipython",
    "version": 3
   },
   "file_extension": ".py",
   "mimetype": "text/x-python",
   "name": "python",
   "nbconvert_exporter": "python",
   "pygments_lexer": "ipython3",
   "version": "3.7.3"
  }
 },
 "nbformat": 4,
 "nbformat_minor": 2
}
